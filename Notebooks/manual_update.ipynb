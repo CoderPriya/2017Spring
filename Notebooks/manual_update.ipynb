{
 "cells": [
  {
   "cell_type": "markdown",
   "metadata": {
    "deletable": true,
    "editable": true
   },
   "source": [
    "## Calcuating gradients numerically and verifying using torch's backward (please check lecture 1, slides 87)"
   ]
  },
  {
   "cell_type": "code",
   "execution_count": 1,
   "metadata": {
    "collapsed": false,
    "deletable": true,
    "editable": true
   },
   "outputs": [],
   "source": [
    "require 'nn';                                                  \n",
    "model = nn.Linear(1,2)\n",
    "x = torch.rand(1)\n",
    "y = torch.Tensor({1})"
   ]
  },
  {
   "cell_type": "code",
   "execution_count": 2,
   "metadata": {
    "collapsed": false,
    "deletable": true,
    "editable": true
   },
   "outputs": [
    {
     "data": {
      "text/plain": [
       " 0.1854\n",
       "[torch.DoubleTensor of size 1]\n",
       "\n",
       " 0.1313\n",
       "-0.4951\n",
       "[torch.DoubleTensor of size 2]\n",
       "\n",
       " 1\n",
       "[torch.DoubleTensor of size 1]\n",
       "\n",
       "-0.8399\n",
       "-0.6943\n",
       "[torch.DoubleTensor of size 2x1]\n",
       "\n"
      ]
     },
     "execution_count": 2,
     "metadata": {},
     "output_type": "execute_result"
    }
   ],
   "source": [
    "op = model:forward(x)\n",
    "print(x)\n",
    "print(op)\n",
    "print(y)\n",
    "print(model.weight)"
   ]
  },
  {
   "cell_type": "code",
   "execution_count": 3,
   "metadata": {
    "collapsed": false,
    "deletable": true,
    "editable": true
   },
   "outputs": [
    {
     "data": {
      "text/plain": [
       "0.42821119287393\t\n"
      ]
     },
     "execution_count": 3,
     "metadata": {},
     "output_type": "execute_result"
    }
   ],
   "source": [
    "criterion = nn.CrossEntropyCriterion()\n",
    "e1 = criterion:forward(op, y)\n",
    "print(e1)"
   ]
  },
  {
   "cell_type": "code",
   "execution_count": 4,
   "metadata": {
    "collapsed": false,
    "deletable": true,
    "editable": true
   },
   "outputs": [
    {
     "data": {
      "text/plain": [
       "-0.064589666493031\t\n"
      ]
     },
     "execution_count": 4,
     "metadata": {},
     "output_type": "execute_result"
    }
   ],
   "source": [
    "model.weight[1][1] = model.weight[1][1] + 0.00001\n",
    "e2 = criterion:forward(model:forward(x), y)\n",
    "print((e2 - e1)/0.00001)"
   ]
  },
  {
   "cell_type": "code",
   "execution_count": 5,
   "metadata": {
    "collapsed": false,
    "deletable": true,
    "editable": true
   },
   "outputs": [
    {
     "data": {
      "text/plain": [
       "0.06458974454171\t\n"
      ]
     },
     "execution_count": 5,
     "metadata": {},
     "output_type": "execute_result"
    }
   ],
   "source": [
    "model.weight[1][1] = model.weight[1][1] - 0.00001\n",
    "model.weight[2][1] = model.weight[2][1] + 0.00001\n",
    "e3 = criterion:forward(model:forward(x), y)\n",
    "print((e3 - e1)/0.00001)"
   ]
  },
  {
   "cell_type": "code",
   "execution_count": 6,
   "metadata": {
    "collapsed": false,
    "deletable": true,
    "editable": true
   },
   "outputs": [
    {
     "data": {
      "text/plain": [
       "0.01 *\n",
       " -6.4590\n",
       "  6.4590\n",
       "[torch.DoubleTensor of size 2x1]\n",
       "\n"
      ]
     },
     "execution_count": 6,
     "metadata": {},
     "output_type": "execute_result"
    }
   ],
   "source": [
    "model.weight[2][1] = model.weight[2][1] - 0.00001\n",
    "df_do = criterion:backward(model:forward(x),y)\n",
    "model:backward(x, df_do)\n",
    "print(model.gradWeight)"
   ]
  }
 ],
 "metadata": {
  "kernelspec": {
   "display_name": "iTorch",
   "language": "lua",
   "name": "itorch"
  },
  "language_info": {
   "name": "lua",
   "version": "5.1"
  }
 },
 "nbformat": 4,
 "nbformat_minor": 2
}
